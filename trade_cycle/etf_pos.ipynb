{
 "cells": [
  {
   "cell_type": "markdown",
   "metadata": {},
   "source": [
    "# 目的\n",
    "记录当前ETF的仓位和价格位置。从而观察这套交易是好还是坏？\n",
    "也可以基于历史的数据，帮助我们判断，当前应该继续加仓还是应该减仓。\n",
    "所以基本上，我们可以有两套建议系统，第一套是基于位置计算仓位的非线性函数。\n",
    "另一种是基于历史数据的建议，对比历史上同位置的交易，我们可以这么想，\n",
    "也就两种情况，第一种是历史的成本高：当时这个位置的成本这么高，最后也挣钱了，现在成本低，可以继续加仓，加加加\n",
    "第二种是历史的成本更低：当时这个位置，同样的仓位成本已经这么低了，那现在这笔交易是有风险的，等继续跌，跌了再加仓。还有种是历史成本低，同时历史仓位更重，计算加仓成本和历史水平一致的话，就可以继续加仓。如果历史是仓位轻，成本低，这种参考意义就不大了。\n",
    "\n",
    "首先我们要对一个交易系统进行评分。\n",
    "\n",
    "什么是交易周期？我定义为从开仓到清仓的这整个流程，这称之为一次长期的交易，这期间一定会包含很多次网格交易，以及底仓建立，高位出货的流程，这一整套的交易，可以称之为一次交易周期。\n",
    "\n",
    "那么一个交易周期的好坏是什么？\n",
    "\n",
    "这有分为了运行中的周期和结束的周期。\n",
    "先讲运行中的周期。这其实就是在讨论一个周期的快照。是一个静态的事物\n",
    "\n",
    "首先为了公平起见，我们要考虑到两个交易周期它的买入时机，当然买入时机是越低越好。还要考虑到买入的量，总仓位，成本价，现价，框定价格的上下界，现有持仓数，投资金额（已用仓位）= 持仓数*成本价。这些因素都是要考虑到的。\n",
    "\n",
    "成本价低于现价总是好的，因为这说明当前是盈利的。盈利总是对的，是吧。但是持仓数也是非常重要的，持仓越多，盈利的倍率才会有。低成本的持仓越多越好。我们想要持仓多，同时成本还低于现价格，这是也可遇而不可求的。因为作为左侧交易者，越跌越买，和越涨越卖，说明增长持仓的时候，必然要经历亏损，降低持仓的时候，成本一一定会越来越低。所以对于同一个交易同期，对比它的建仓期和出货期是很难比出优劣的。因此我们应该对比同样在建仓期或者同样在出货期的周期快照，这才有对比的意义。\n",
    "\n",
    "同时，我希望可以实现自动化记录的功能，每个月只需要我修改一下当前的持仓成本和持仓数，我就可以自动的将全部快照记录到列表中。\n",
    "\n",
    "# 实现方式\n",
    "### 我需要登记的数据：\n",
    "\n",
    "- etf 基金当前框定价格的上下界 （实现完全公式化计算）\n",
    "   - 目的是计算现价百分位 (val position = (ln(current) - ln(min)) / (ln(max) - ln(min)))\n",
    "   - 关于etf上下界的计算，也有公式呈现：\n",
    "      - 上界 一年内最高价\n",
    "      - 下界 一年内最低价\n",
    "      - 偏移量 针对新成立的基金\n",
    "         - 上界增加 0.4*(一年-成立时间)/一年\n",
    "         - 下界减少  0.2*(一年-成立时间)/一年\n",
    "\n",
    "\n",
    "- 目前持仓数据\n",
    "   - etf代码 \n",
    "   - 交易周期名称（这个可以直接用总仓位 + 建仓时间来代替，不用人工填写）\n",
    "   - 建仓时间&建仓价格百分位 （一次性填写，不修改）\n",
    "   - 总仓位 （一次性填写，不修改）\n",
    "   - 成本价 （需要修改）\n",
    "   - 现价 （需要，但是从数据库中获取，不需要人工填写）\n",
    "   - 现持仓数 （需要修改）\n",
    "\n",
    "### 产品逻辑\n",
    "\n",
    "- 建立一个excel表格：current_trade.csv\n",
    "   - 其中有这么几列：etf代码（code），start_time, start_price_position, total_cash, 成本价（cost_price）, 持仓数（position）\n",
    "- 计算表格，每一个cycle应该有一个表格，用于记录周期快照：xxxx.csv 放在 cycle_history 目录下\n",
    "   - 每个表格里面是关于这个交易周期的快照信息。\n",
    "   - 有这么几列，etf代码（code），start_time, start_price_position, total_cash, 前面这几列虽然是固定的，但是还是放进列表中吧，方便后面的计算\n",
    "   - 后面的新增的原始数据，当前时间（current_time） 成本价（cost_price）, 持仓数（position）, 现价（current_price），最高（max_price），最低（min_price），价格位置（price_position）\n",
    "   - 然后是通过上面的原始数据计算的数据，持续时间，价格百分比差值（当前价格位置 - 建仓价格位置），收益率，年化收益率\n",
    "\n",
    "\n",
    "\n",
    "\n"
   ]
  },
  {
   "cell_type": "code",
   "execution_count": 52,
   "metadata": {},
   "outputs": [
    {
     "name": "stderr",
     "output_type": "stream",
     "text": [
      "No artists with labels found to put in legend.  Note that artists whose label start with an underscore are ignored when legend() is called with no argument.\n"
     ]
    },
    {
     "data": {
      "image/png": "[encoded data removed]",
      "text/plain": [
       "<Figure size 432x288 with 1 Axes>"
      ]
     },
     "metadata": {
      "needs_background": "light"
     },
     "output_type": "display_data"
    }
   ],
   "source": [
    "import numpy as np\n",
    "import matplotlib.pyplot as plt\n",
    "from pylab import mpl\n",
    "\n",
    "plt.rcParams['font.sans-serif'] = ['Arial Unicode MS']\n",
    "plt.rcParams['axes.unicode_minus'] = False\n",
    "\n",
    "size = 4\n",
    "x = np.arange(size)\n",
    "a = np.arange(size)\n",
    "b = np.linspace(100,100,size) # \n",
    "\n",
    "\n",
    "plt.bar(x, b, fc='darkorange')\n",
    "plt.bar(x, a, fc='steelblue')\n",
    "\n",
    "for xx, yy in zip(x,a):\n",
    "    plt.text(xx, yy-0.1, str(yy), ha='center')\n",
    "\n",
    "for xx, yy in zip(x,b):\n",
    "    plt.text(xx, yy+0.1, str(yy), ha='center')\n",
    "\n",
    "bottom = [1.5, '0%', '0%', '0%']\n",
    "for xx, yy in zip(x,b):\n",
    "    plt.text(xx, -5, str(bottom[xx]), ha='center')\n",
    "\n",
    "label = ['价格', '建议仓位', '实际仓位', '建仓亏损']\n",
    "for xx, yy in zip(x,b):\n",
    "    plt.text(xx, -15, label[xx], ha='center')\n",
    "\n",
    "plt.legend()\n",
    "plt.axis('off')\n",
    "\n",
    "plt.show()\n",
    "\n",
    "\n",
    "\n",
    "\n",
    "\n",
    "\n",
    "\n",
    "\n"
   ]
  },
  {
   "cell_type": "code",
   "execution_count": null,
   "metadata": {},
   "outputs": [],
   "source": []
  }
 ],
 "metadata": {
  "interpreter": {
   "hash": "0d42fb152949810643440f7304f30705aad01d08c3e5aba103d6d9e60fe7f167"
  },
  "kernelspec": {
   "display_name": "Python 3.9.7 64-bit ('py39': conda)",
   "language": "python",
   "name": "python3"
  },
  "language_info": {
   "codemirror_mode": {
    "name": "ipython",
    "version": 3
   },
   "file_extension": ".py",
   "mimetype": "text/x-python",
   "name": "python",
   "nbconvert_exporter": "python",
   "pygments_lexer": "ipython3",
   "version": "3.9.7"
  },
  "orig_nbformat": 4
 },
 "nbformat": 4,
 "nbformat_minor": 2
}
