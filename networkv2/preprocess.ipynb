{
 "cells": [
  {
   "attachments": {},
   "cell_type": "markdown",
   "metadata": {},
   "source": [
    "预处理数据：每只股票这么取第一年的每日收盘价，再取一年后的收盘价，这样一共是 500 个交易日，每隔60个交易日截取一次\n",
    "数据结构 收盘价，收盘价，。。。交易量，交易量。。。\n",
    "这样好处理一点"
   ]
  },
  {
   "cell_type": "code",
   "execution_count": null,
   "metadata": {},
   "outputs": [],
   "source": [
    "from pandas import Series, DataFrame\n",
    "import pandas as pd\n",
    "import numpy as np\n",
    "import pandas as pd\n",
    "import matplotlib.pyplot as plt\n",
    "from pylab import mpl\n",
    "import datetime\n",
    "import time\n",
    "import math\n",
    "\n",
    "\n",
    "def stripTradeData(step, duration, data):\n",
    "    current = 0\n",
    "    result_df = pd.DataFrame()\n",
    "    while (current+duration*2+1) < df.shape[0]:\n",
    "        sub_df = data[current:current+duration]\n",
    "        row = sub_df['close'].append(sub_df['amount'], ignore_index = True)\n",
    "        result = data['close'].loc[current+duration*2]\n",
    "        row = row.append(pd.Series([result]))\n",
    "        result_df = result_df.append(row, ignore_index = True)\n",
    "        current = current + step\n",
    "\n",
    "    return result_df\n",
    "\n",
    "df = pd.read_csv('../data/sh510500.csv')\n",
    "df = df[['date', 'close', 'amount']]\n",
    "\n",
    "print(stripTradeData(60, 100, df))\n"
   ]
  }
 ],
 "metadata": {
  "kernelspec": {
   "display_name": "base",
   "language": "python",
   "name": "python3"
  },
  "language_info": {
   "codemirror_mode": {
    "name": "ipython",
    "version": 3
   },
   "file_extension": ".py",
   "mimetype": "text/x-python",
   "name": "python",
   "nbconvert_exporter": "python",
   "pygments_lexer": "ipython3",
   "version": "3.9.6"
  },
  "orig_nbformat": 4,
  "vscode": {
   "interpreter": {
    "hash": "bbd8941877f83bdd3e9fef1e95f83320349376bfc07a0db8deec9d06edeccd2c"
   }
  }
 },
 "nbformat": 4,
 "nbformat_minor": 2
}
